{
 "cells": [
  {
   "cell_type": "code",
   "execution_count": 3,
   "id": "f444adb5",
   "metadata": {},
   "outputs": [],
   "source": [
    "import os\n",
    "from dotenv import load_dotenv\n",
    "import requests"
   ]
  },
  {
   "cell_type": "code",
   "execution_count": null,
   "id": "7c4a1d33",
   "metadata": {},
   "outputs": [],
   "source": [
    "# Load environment variables.\n",
    "load_dotenv()\n",
    "\n",
    "REC_API_KEY = os.getenv(\"RECREATION_GOV_API_KEY\")\n",
    "REC_API_URL = \"https://ridb.recreation.gov/docs#/Reservations/getReservations\""
   ]
  },
  {
   "cell_type": "code",
   "execution_count": 7,
   "id": "9f29b302",
   "metadata": {},
   "outputs": [
    {
     "name": "stdout",
     "output_type": "stream",
     "text": [
      "Error decoding JSON: Expecting value: line 1 column 1 (char 0)\n",
      "Response text: <!doctype html><html lang=\"en\"><head><link rel=\"preconnect\" href=\"https://cdn.recreation.gov\"><link rel=\"preconnect\" href=\"https://localizecdn.com\"><meta charset=\"utf-8\"><title>Recreation.gov - Camping, Cabins, RVs, Permits, Passes & More</title><meta http-equiv=\"X-UA-Compatible\" content=\"IE=edge,chrome=1\"><meta name=\"description\" content=\"Recreation.gov is your source for discovering and experiencing America's federal recreation activities and outdoor adventures.\"><meta name=\"viewport\" content=\"width=device-width,initial-scale=1\"><meta name=\"google-site-verification\" content=\"xmkpAh4jQgqpLPms2S5QwuK7gMu9_54HI7iVBmneNo0\"><meta name=\"google-site-verification\" content=\"YRvT10_q03Dy_nBrNAQ6Ni6PAX7Bwb5nzgMk7YR9xSw\"><meta name=\"msvalidate.01\" content=\"428D369ED5DDADEA657FFF0D1DA9475B\"><meta name=\"yandex-verification\" content=\"f4201d301ca3ebba\"><meta name=\"ir-site-verification-token\" content=\"2240656\"><meta name=\"robots\" content=\"max-image-preview:large\"><script>(function(w,d,s,l,i){w[l]=w[l]||[];w[l].push({'gtm.start':new Date().getTime(),event:'gtm.js'});var f=d.getElementsByTagName(s)[0],\n",
      "        j=d.createElement(s),dl=l!='dataLayer'?'&l='+l:'';j.async=true;j.src=\n",
      "        'https://www.googletagmanager.com/gtm.js?id='+i+dl+ '&gtm_auth=TTJSuH9rjmpxLfachGPS8g&gtm_preview=env-2&gtm_cookies_win=x';f.parentNode.insertBefore(j,f);\n",
      "    })(window,document,'script','dataLayer','GTM-5PH9PJ3');</script><link rel=\"shortcut icon\" href=\"/shared/favicons/favicon.ico\"><link rel=\"apple-touch-icon\" href=\"/shared/favicons/icon_192x192.png\"><link rel=\"manifest\" href=\"/manifest.json\" crossorigin=\"use-credentials\"><meta property=\"og:type\" content=\"website\"><meta property=\"og:url\" content=\"https://www.recreation.gov/\"><meta property=\"og:title\" content=\"Recreation.gov - Camping, Cabins, RVs, Permits, Passes & More\"><meta property=\"og:description\" content=\"Recreation.gov is your source for discovering and experiencing America's federal recreation activities and outdoor adventures.\"><meta property=\"og:site_name\" content=\"Recreation.gov\"><meta property=\"og:image\" content=\"https://www.recreation.gov/FacebookOG.jpg\"><meta name=\"twitter:card\" content=\"summary_large_image\"><meta name=\"twitter:domain\" content=\"recreation.gov\"><meta name=\"twitter:title\" content=\"Recreation.gov - Camping, Cabins, RVs, Permits, Passes & More\"><meta name=\"twitter:description\" content=\"Recreation.gov is your source for discovering and experiencing America's federal recreation activities and outdoor adventures.\"><meta name=\"twitter:image\" content=\"https://www.recreation.gov/TwitterCard.jpg\"><meta name=\"twitter:url\" content=\"https://www.recreation.gov/\"><link rel=\"stylesheet\" href=\"/shared/libraries/mapbox-gl-2.15.0/mapbox-gl.css\"><script src=\"/shared/libraries/mapbox-gl-2.15.0/mapbox-gl.js\"></script><script src=\"https://global.localizecdn.com/localize.js\"></script><link rel=\"modulepreload\" href=\"https://global.localizecdn.com/localize.js\"><script src=\"/shared/libraries/localize/localize.js\"></script><link rel=\"modulepreload\" href=\"/shared/libraries/localize/localize.js\"><script type=\"module\" crossorigin src=\"/ridb/index-DutD8mBF.js\"></script><link rel=\"modulepreload\" crossorigin href=\"/ridb/lodash-DROHW2q0.js\"><link rel=\"modulepreload\" crossorigin href=\"/ridb/react-DoPbzlpU.js\"><link rel=\"modulepreload\" crossorigin href=\"/ridb/moment-Ke3aNjTf.js\"><link rel=\"modulepreload\" crossorigin href=\"/ridb/vendor-D6z8lBZi.js\"><link rel=\"modulepreload\" crossorigin href=\"/ridb/sarsaparilla-C0sdYjyT.js\"><link rel=\"stylesheet\" crossorigin href=\"/ridb/index-Cb4p0jzH.css\"></head><body><noscript><iframe src=\"https://www.googletagmanager.com/ns.html?id=GTM-5PH9PJ3&gtm_auth=TTJSuH9rjmpxLfachGPS8g&gtm_preview=env-2&gtm_cookies_win=x\" height=\"0\" width=\"0\" style=\"display:none;visibility:hidden\"></iframe></noscript><div id=\"recApp\"></div></body></html>\n"
     ]
    }
   ],
   "source": [
    "params = {\n",
    "    \"dateFrom\": \"2025-10-01\",\n",
    "    \"dateTo\": \"2025-10-08\",\n",
    "    \"limit\": 50\n",
    "}\n",
    "\n",
    "headers = {\n",
    "    \"apikey\": REC_API_KEY\n",
    "}\n",
    "\n",
    "response = requests.get(REC_API_URL, params=params, headers=headers)\n",
    "\n",
    "if response.status_code == 200:\n",
    "    try:\n",
    "        data = response.json()\n",
    "        print(data)\n",
    "    except Exception as e:\n",
    "        print(\"Error decoding JSON:\", e)\n",
    "        print(\"Response text:\", response.text)\n",
    "else:\n",
    "    print(\"Request failed with status code:\", response.status_code)\n",
    "    print(\"Response text:\", response.text)"
   ]
  }
 ],
 "metadata": {
  "kernelspec": {
   "display_name": "dev",
   "language": "python",
   "name": "python3"
  },
  "language_info": {
   "codemirror_mode": {
    "name": "ipython",
    "version": 3
   },
   "file_extension": ".py",
   "mimetype": "text/x-python",
   "name": "python",
   "nbconvert_exporter": "python",
   "pygments_lexer": "ipython3",
   "version": "3.10.15"
  }
 },
 "nbformat": 4,
 "nbformat_minor": 5
}
